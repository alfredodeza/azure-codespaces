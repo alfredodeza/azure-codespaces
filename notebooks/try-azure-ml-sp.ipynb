{
 "cells": [
  {
   "cell_type": "markdown",
   "metadata": {},
   "source": [
    "# Try Azure ML Studio with a Service Principal\n",
    "This interactive Jupyter Notebook will allow you to setup infrastructure on Azure ML and authenticate using a Service Principal. \n",
    "\n",
    "Make sure you have enabled the following GitHub repository secrets:\n",
    "\n",
    "```\n",
    "SUBSCRIPTION_ID\n",
    "AZURE_SERVICE_PRINCIPAL_TENANT\n",
    "AZURE_SERVICE_PRINCIPAL_APPID\n",
    "AZURE_SERVICE_PRINCIPAL_PASSWORD\n",
    "```\n",
    "\n",
    "Optionally, you can add the following items to use a specific resource group, region, or existing workspace:\n",
    "\n",
    "```\n",
    "WORKSPACE_REGION\n",
    "RESOURCE_GROUP\n",
    "WORKSPACE_NAME\n",
    "```\n",
    "\n",
    "These are retrieved and set from the next cell"
   ]
  },
  {
   "cell_type": "code",
   "execution_count": null,
   "metadata": {},
   "outputs": [],
   "source": [
    "import os\n",
    "\n",
    "subscription_id = os.getenv(\"SUBSCRIPTION_ID\")\n",
    "resource_group = os.getenv(\"RESOURCE_GROUP\", default=\"demo-try-azureml\")\n",
    "workspace_name = os.getenv(\"WORKSPACE_NAME\", default=\"demo-try-azureml\")\n",
    "workspace_region = os.getenv(\"WORKSPACE_REGION\", default=\"eastus2\")\n",
    "tenant_id = os.environ[\"AZURE_SERVICE_PRINCIPAL_TENANT\"]\n",
    "service_principal_id = os.environ[\"AZURE_SERVICE_PRINCIPAL_APPID\"]\n",
    "service_principal_password = os.environ[\"AZURE_SERVICE_PRINCIPAL_PASSWORD\"]"
   ]
  },
  {
   "cell_type": "markdown",
   "metadata": {},
   "source": [
    "## Define the Service Principal \n",
    "Use the environment variables to instantiate the Service Principal account so that it can be used to authenticate to Azure later"
   ]
  },
  {
   "cell_type": "code",
   "execution_count": null,
   "metadata": {},
   "outputs": [],
   "source": [
    "from azureml.core import Workspace\n",
    "from azureml.core.authentication import ServicePrincipalAuthentication\n",
    "\n",
    "service_principal = ServicePrincipalAuthentication(\n",
    "    tenant_id=tenant_id,\n",
    "    service_principal_id=service_principal_id,\n",
    "    service_principal_password=service_principal_password\n",
    ")\n"
   ]
  },
  {
   "cell_type": "markdown",
   "metadata": {},
   "source": [
    "## Create the workspace \n",
    "Use the previously created configuration file to create the Azure ML workspace"
   ]
  },
  {
   "cell_type": "code",
   "execution_count": null,
   "metadata": {},
   "outputs": [],
   "source": [
    "# Create the workspace using the specified parameters\n",
    "ws = Workspace.create(name = workspace_name,\n",
    "                      subscription_id = subscription_id,\n",
    "                      resource_group = resource_group, \n",
    "                      location = workspace_region,\n",
    "                      auth=service_principal\n",
    "                      create_resource_group = True,\n",
    "                      exist_ok = True)\n",
    "ws.get_details()\n",
    "\n",
    "# write the details of the workspace to a configuration file to the notebook library\n",
    "ws.write_config()"
   ]
  },
  {
   "cell_type": "code",
   "execution_count": null,
   "metadata": {},
   "outputs": [],
   "source": [
    "from azureml.core.compute import ComputeTarget, AmlCompute\n",
    "\n",
    "# define aml compute target(s) to create\n",
    "amlcomputes = {\n",
    "    \"cpu-cluster\": {\n",
    "        \"vm_size\": \"STANDARD_DS3_V2\",\n",
    "        \"min_nodes\": 0,\n",
    "        \"max_nodes\": 3,\n",
    "        \"idle_seconds_before_scaledown\": 240,\n",
    "    }\n",
    "}\n",
    "\n",
    "# create aml compute targets\n",
    "for ct_name in amlcomputes:\n",
    "    if ct_name not in ws.compute_targets:\n",
    "        compute_config = AmlCompute.provisioning_configuration(**amlcomputes[ct_name])\n",
    "        ct = ComputeTarget.create(ws, ct_name, compute_config)\n",
    "        ct.wait_for_completion(show_output=True)"
   ]
  },
  {
   "cell_type": "markdown",
   "metadata": {},
   "source": [
    "## Perform exploratory work\n",
    "You can now interact with the Azure ML Workspace, like train models, register datasets and models, or create an AutoML run"
   ]
  },
  {
   "cell_type": "code",
   "execution_count": null,
   "metadata": {},
   "outputs": [],
   "source": [
    "# exploratory work"
   ]
  },
  {
   "cell_type": "markdown",
   "metadata": {},
   "source": [
    "## Destroy workspace and resources\n",
    "The next cell will destroy all assets from the Azure ML workspace"
   ]
  },
  {
   "cell_type": "code",
   "execution_count": null,
   "metadata": {},
   "outputs": [],
   "source": [
    "ws.delete(delete_dependent_resources=True, no_wait=False)"
   ]
  }
 ],
 "metadata": {
  "language_info": {
   "name": "python"
  },
  "orig_nbformat": 4
 },
 "nbformat": 4,
 "nbformat_minor": 2
}
